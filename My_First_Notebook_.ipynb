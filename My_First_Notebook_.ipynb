{
  "nbformat": 4,
  "nbformat_minor": 0,
  "metadata": {
    "colab": {
      "name": "My First Notebook .ipynb",
      "provenance": [],
      "authorship_tag": "ABX9TyPywH1ACGiu/0efcIrgpM6V",
      "include_colab_link": true
    },
    "kernelspec": {
      "name": "python3",
      "display_name": "Python 3"
    },
    "language_info": {
      "name": "python"
    }
  },
  "cells": [
    {
      "cell_type": "markdown",
      "metadata": {
        "id": "view-in-github",
        "colab_type": "text"
      },
      "source": [
        "<a href=\"https://colab.research.google.com/github/MullapudiHarshitha/Basic-ML/blob/main/My_First_Notebook_.ipynb\" target=\"_parent\"><img src=\"https://colab.research.google.com/assets/colab-badge.svg\" alt=\"Open In Colab\"/></a>"
      ]
    },
    {
      "cell_type": "markdown",
      "metadata": {
        "id": "y_EPDL07Vbh7"
      },
      "source": [
        "Python Program For Finding even or odd:"
      ]
    },
    {
      "cell_type": "code",
      "metadata": {
        "colab": {
          "base_uri": "https://localhost:8080/"
        },
        "id": "5td2eRknWcOy",
        "outputId": "ff2a42b9-8824-461c-9b01-b8a0fa26886b"
      },
      "source": [
        " \n",
        "N=int(input())\n",
        "if (N%2==0):\n",
        "   print(\" Even\")\n",
        "else:\n",
        "   print (\" Odd\")"
      ],
      "execution_count": null,
      "outputs": [
        {
          "output_type": "stream",
          "text": [
            "   15\n",
            " Odd\n"
          ],
          "name": "stdout"
        }
      ]
    },
    {
      "cell_type": "markdown",
      "metadata": {
        "id": "YhbyiXjSXVzI"
      },
      "source": [
        "Python program for Maximum Of Two numbers:"
      ]
    },
    {
      "cell_type": "code",
      "metadata": {
        "colab": {
          "base_uri": "https://localhost:8080/"
        },
        "id": "6jWTrkdaYPIb",
        "outputId": "34cbcfa5-f1ca-4793-f646-2010ce278bd6"
      },
      "source": [
        " \n",
        "a=int(input(\"enter a:\")) \n",
        "b=int(input(\"enter b:\")) \n",
        "if (a>b):\n",
        "   print(\"max is a\")\n",
        "else:\n",
        "   print(\"max is b\")"
      ],
      "execution_count": null,
      "outputs": [
        {
          "output_type": "stream",
          "text": [
            "enter a:35\n",
            "enter b:57\n",
            "max is b\n"
          ],
          "name": "stdout"
        }
      ]
    },
    {
      "cell_type": "markdown",
      "metadata": {
        "id": "W-QYM13dZCGn"
      },
      "source": [
        "Python Program For Finding a leap year or not:"
      ]
    },
    {
      "cell_type": "code",
      "metadata": {
        "colab": {
          "base_uri": "https://localhost:8080/"
        },
        "id": "hPGu7PUoaqnd",
        "outputId": "8173d522-c502-4291-915b-f588c66d9c34"
      },
      "source": [
        " \n",
        "y=int(input(\"enter a number:\")) \n",
        "if (y%4==0 and y%100!=0) or (y%400==0):\n",
        "   print(\"leap year\") \n",
        "else: \n",
        "   print(\"non leap year\")"
      ],
      "execution_count": null,
      "outputs": [
        {
          "output_type": "stream",
          "text": [
            "enter a number:2021\n",
            "non leap year\n"
          ],
          "name": "stdout"
        }
      ]
    },
    {
      "cell_type": "markdown",
      "metadata": {
        "id": "LwUnudugbfxp"
      },
      "source": [
        ""
      ]
    }
  ]
}